{
 "cells": [
  {
   "cell_type": "code",
   "execution_count": 4,
   "metadata": {},
   "outputs": [],
   "source": [
    "import numpy as np\n",
    "import pandas as pd \n",
    "import sklearn\n",
    "from sklearn.impute import SimpleImputer\n",
    "from feature_engine.encoding import RareLableEncoder\n",
    "\n",
    "import warnings"
   ]
  },
  {
   "cell_type": "code",
   "execution_count": 5,
   "metadata": {},
   "outputs": [],
   "source": [
    "pd.set_option(\"display.max_columns\", None)\n",
    "sklearn.set_config(transform_output=\"pandas\")\n",
    "warnings.filterwarnings(\"ignore\")"
   ]
  },
  {
   "cell_type": "code",
   "execution_count": 6,
   "metadata": {},
   "outputs": [],
   "source": [
    "path = r\"/Users/harsimranjitsingh/Desktop/Projects/data/train.csv\"\n",
    "train  = pd.read_csv(path)"
   ]
  },
  {
   "cell_type": "code",
   "execution_count": 7,
   "metadata": {},
   "outputs": [
    {
     "data": {
      "text/html": [
       "<div>\n",
       "<style scoped>\n",
       "    .dataframe tbody tr th:only-of-type {\n",
       "        vertical-align: middle;\n",
       "    }\n",
       "\n",
       "    .dataframe tbody tr th {\n",
       "        vertical-align: top;\n",
       "    }\n",
       "\n",
       "    .dataframe thead th {\n",
       "        text-align: right;\n",
       "    }\n",
       "</style>\n",
       "<table border=\"1\" class=\"dataframe\">\n",
       "  <thead>\n",
       "    <tr style=\"text-align: right;\">\n",
       "      <th></th>\n",
       "      <th>airline</th>\n",
       "      <th>date_of_journey</th>\n",
       "      <th>source</th>\n",
       "      <th>destination</th>\n",
       "      <th>dep_time</th>\n",
       "      <th>arrival_time</th>\n",
       "      <th>duration</th>\n",
       "      <th>total_stops</th>\n",
       "      <th>additional_info</th>\n",
       "      <th>price</th>\n",
       "    </tr>\n",
       "  </thead>\n",
       "  <tbody>\n",
       "    <tr>\n",
       "      <th>0</th>\n",
       "      <td>Jet Airways</td>\n",
       "      <td>2019-03-06</td>\n",
       "      <td>Delhi</td>\n",
       "      <td>Cochin</td>\n",
       "      <td>18:15:00</td>\n",
       "      <td>19:45:00</td>\n",
       "      <td>1530</td>\n",
       "      <td>1.0</td>\n",
       "      <td>No Info</td>\n",
       "      <td>17024</td>\n",
       "    </tr>\n",
       "    <tr>\n",
       "      <th>1</th>\n",
       "      <td>Indigo</td>\n",
       "      <td>2019-03-09</td>\n",
       "      <td>Delhi</td>\n",
       "      <td>Cochin</td>\n",
       "      <td>04:55:00</td>\n",
       "      <td>12:00:00</td>\n",
       "      <td>425</td>\n",
       "      <td>1.0</td>\n",
       "      <td>No Info</td>\n",
       "      <td>6171</td>\n",
       "    </tr>\n",
       "    <tr>\n",
       "      <th>2</th>\n",
       "      <td>Air India</td>\n",
       "      <td>2019-06-15</td>\n",
       "      <td>Delhi</td>\n",
       "      <td>Cochin</td>\n",
       "      <td>13:20:00</td>\n",
       "      <td>07:40:00</td>\n",
       "      <td>1100</td>\n",
       "      <td>2.0</td>\n",
       "      <td>No Info</td>\n",
       "      <td>12121</td>\n",
       "    </tr>\n",
       "    <tr>\n",
       "      <th>3</th>\n",
       "      <td>Multiple Carriers</td>\n",
       "      <td>2019-03-27</td>\n",
       "      <td>Delhi</td>\n",
       "      <td>Cochin</td>\n",
       "      <td>10:20:00</td>\n",
       "      <td>01:35:00</td>\n",
       "      <td>915</td>\n",
       "      <td>1.0</td>\n",
       "      <td>No Info</td>\n",
       "      <td>6427</td>\n",
       "    </tr>\n",
       "    <tr>\n",
       "      <th>4</th>\n",
       "      <td>Jet Airways</td>\n",
       "      <td>2019-05-01</td>\n",
       "      <td>Kolkata</td>\n",
       "      <td>Banglore</td>\n",
       "      <td>21:10:00</td>\n",
       "      <td>04:40:00</td>\n",
       "      <td>450</td>\n",
       "      <td>1.0</td>\n",
       "      <td>In-flight meal not included</td>\n",
       "      <td>10844</td>\n",
       "    </tr>\n",
       "    <tr>\n",
       "      <th>...</th>\n",
       "      <td>...</td>\n",
       "      <td>...</td>\n",
       "      <td>...</td>\n",
       "      <td>...</td>\n",
       "      <td>...</td>\n",
       "      <td>...</td>\n",
       "      <td>...</td>\n",
       "      <td>...</td>\n",
       "      <td>...</td>\n",
       "      <td>...</td>\n",
       "    </tr>\n",
       "    <tr>\n",
       "      <th>6395</th>\n",
       "      <td>Jet Airways</td>\n",
       "      <td>2019-06-12</td>\n",
       "      <td>Kolkata</td>\n",
       "      <td>Banglore</td>\n",
       "      <td>06:30:00</td>\n",
       "      <td>16:20:00</td>\n",
       "      <td>590</td>\n",
       "      <td>1.0</td>\n",
       "      <td>In-flight meal not included</td>\n",
       "      <td>9899</td>\n",
       "    </tr>\n",
       "    <tr>\n",
       "      <th>6396</th>\n",
       "      <td>Indigo</td>\n",
       "      <td>2019-03-06</td>\n",
       "      <td>Delhi</td>\n",
       "      <td>Cochin</td>\n",
       "      <td>11:55:00</td>\n",
       "      <td>22:20:00</td>\n",
       "      <td>625</td>\n",
       "      <td>1.0</td>\n",
       "      <td>No Info</td>\n",
       "      <td>6442</td>\n",
       "    </tr>\n",
       "    <tr>\n",
       "      <th>6397</th>\n",
       "      <td>Indigo</td>\n",
       "      <td>2019-05-18</td>\n",
       "      <td>Banglore</td>\n",
       "      <td>Delhi</td>\n",
       "      <td>13:00:00</td>\n",
       "      <td>15:50:00</td>\n",
       "      <td>170</td>\n",
       "      <td>0.0</td>\n",
       "      <td>No Info</td>\n",
       "      <td>4423</td>\n",
       "    </tr>\n",
       "    <tr>\n",
       "      <th>6398</th>\n",
       "      <td>Air India</td>\n",
       "      <td>2019-03-06</td>\n",
       "      <td>Delhi</td>\n",
       "      <td>Cochin</td>\n",
       "      <td>07:00:00</td>\n",
       "      <td>19:15:00</td>\n",
       "      <td>735</td>\n",
       "      <td>1.0</td>\n",
       "      <td>No Info</td>\n",
       "      <td>15809</td>\n",
       "    </tr>\n",
       "    <tr>\n",
       "      <th>6399</th>\n",
       "      <td>Air India</td>\n",
       "      <td>2019-05-01</td>\n",
       "      <td>Kolkata</td>\n",
       "      <td>Banglore</td>\n",
       "      <td>09:50:00</td>\n",
       "      <td>08:55:00</td>\n",
       "      <td>1385</td>\n",
       "      <td>2.0</td>\n",
       "      <td>No Info</td>\n",
       "      <td>13227</td>\n",
       "    </tr>\n",
       "  </tbody>\n",
       "</table>\n",
       "<p>6400 rows × 10 columns</p>\n",
       "</div>"
      ],
      "text/plain": [
       "                airline date_of_journey    source destination  dep_time  \\\n",
       "0           Jet Airways      2019-03-06     Delhi      Cochin  18:15:00   \n",
       "1                Indigo      2019-03-09     Delhi      Cochin  04:55:00   \n",
       "2             Air India      2019-06-15     Delhi      Cochin  13:20:00   \n",
       "3     Multiple Carriers      2019-03-27     Delhi      Cochin  10:20:00   \n",
       "4           Jet Airways      2019-05-01   Kolkata    Banglore  21:10:00   \n",
       "...                 ...             ...       ...         ...       ...   \n",
       "6395        Jet Airways      2019-06-12   Kolkata    Banglore  06:30:00   \n",
       "6396             Indigo      2019-03-06     Delhi      Cochin  11:55:00   \n",
       "6397             Indigo      2019-05-18  Banglore       Delhi  13:00:00   \n",
       "6398          Air India      2019-03-06     Delhi      Cochin  07:00:00   \n",
       "6399          Air India      2019-05-01   Kolkata    Banglore  09:50:00   \n",
       "\n",
       "     arrival_time  duration  total_stops              additional_info  price  \n",
       "0        19:45:00      1530          1.0                      No Info  17024  \n",
       "1        12:00:00       425          1.0                      No Info   6171  \n",
       "2        07:40:00      1100          2.0                      No Info  12121  \n",
       "3        01:35:00       915          1.0                      No Info   6427  \n",
       "4        04:40:00       450          1.0  In-flight meal not included  10844  \n",
       "...           ...       ...          ...                          ...    ...  \n",
       "6395     16:20:00       590          1.0  In-flight meal not included   9899  \n",
       "6396     22:20:00       625          1.0                      No Info   6442  \n",
       "6397     15:50:00       170          0.0                      No Info   4423  \n",
       "6398     19:15:00       735          1.0                      No Info  15809  \n",
       "6399     08:55:00      1385          2.0                      No Info  13227  \n",
       "\n",
       "[6400 rows x 10 columns]"
      ]
     },
     "execution_count": 7,
     "metadata": {},
     "output_type": "execute_result"
    }
   ],
   "source": [
    "train"
   ]
  },
  {
   "cell_type": "code",
   "execution_count": 8,
   "metadata": {},
   "outputs": [
    {
     "name": "stdout",
     "output_type": "stream",
     "text": [
      "<class 'pandas.core.frame.DataFrame'>\n",
      "RangeIndex: 6400 entries, 0 to 6399\n",
      "Data columns (total 10 columns):\n",
      " #   Column           Non-Null Count  Dtype  \n",
      "---  ------           --------------  -----  \n",
      " 0   airline          6400 non-null   object \n",
      " 1   date_of_journey  6400 non-null   object \n",
      " 2   source           6400 non-null   object \n",
      " 3   destination      6400 non-null   object \n",
      " 4   dep_time         6400 non-null   object \n",
      " 5   arrival_time     6400 non-null   object \n",
      " 6   duration         6400 non-null   int64  \n",
      " 7   total_stops      6400 non-null   float64\n",
      " 8   additional_info  6400 non-null   object \n",
      " 9   price            6400 non-null   int64  \n",
      "dtypes: float64(1), int64(2), object(7)\n",
      "memory usage: 500.1+ KB\n"
     ]
    }
   ],
   "source": [
    "train.info()"
   ]
  },
  {
   "cell_type": "code",
   "execution_count": 10,
   "metadata": {},
   "outputs": [],
   "source": [
    "X_train = train.drop(columns=\"price\")\n",
    "y_train = train.price.copy()"
   ]
  },
  {
   "cell_type": "code",
   "execution_count": 11,
   "metadata": {},
   "outputs": [
    {
     "data": {
      "text/plain": [
       "['airline',\n",
       " 'date_of_journey',\n",
       " 'source',\n",
       " 'destination',\n",
       " 'dep_time',\n",
       " 'arrival_time',\n",
       " 'duration',\n",
       " 'total_stops',\n",
       " 'additional_info']"
      ]
     },
     "execution_count": 11,
     "metadata": {},
     "output_type": "execute_result"
    }
   ],
   "source": [
    "## Transformation operation\n",
    "X_train.columns.to_list()"
   ]
  },
  {
   "cell_type": "code",
   "execution_count": 12,
   "metadata": {},
   "outputs": [
    {
     "data": {
      "text/plain": [
       "0             Jet Airways\n",
       "1                  Indigo\n",
       "2               Air India\n",
       "3       Multiple Carriers\n",
       "4             Jet Airways\n",
       "              ...        \n",
       "6395          Jet Airways\n",
       "6396               Indigo\n",
       "6397               Indigo\n",
       "6398            Air India\n",
       "6399            Air India\n",
       "Name: airline, Length: 6400, dtype: object"
      ]
     },
     "execution_count": 12,
     "metadata": {},
     "output_type": "execute_result"
    }
   ],
   "source": [
    "X_train.airline"
   ]
  },
  {
   "cell_type": "code",
   "execution_count": null,
   "metadata": {},
   "outputs": [],
   "source": []
  },
  {
   "cell_type": "code",
   "execution_count": null,
   "metadata": {},
   "outputs": [],
   "source": []
  },
  {
   "cell_type": "code",
   "execution_count": null,
   "metadata": {},
   "outputs": [],
   "source": []
  }
 ],
 "metadata": {
  "kernelspec": {
   "display_name": "Python 3",
   "language": "python",
   "name": "python3"
  },
  "language_info": {
   "codemirror_mode": {
    "name": "ipython",
    "version": 3
   },
   "file_extension": ".py",
   "mimetype": "text/x-python",
   "name": "python",
   "nbconvert_exporter": "python",
   "pygments_lexer": "ipython3",
   "version": "3.11.7"
  }
 },
 "nbformat": 4,
 "nbformat_minor": 2
}
